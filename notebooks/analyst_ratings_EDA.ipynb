{
 "cells": [
  {
   "cell_type": "code",
   "execution_count": 1,
   "metadata": {},
   "outputs": [],
   "source": [
    "# !pip install pandas matplotlib seaborn\n",
    "# !pip freeze > ../requirements.txt\n"
   ]
  },
  {
   "cell_type": "code",
   "execution_count": 7,
   "metadata": {},
   "outputs": [],
   "source": [
    "import os\n",
    "import pandas as pd\n",
    "import matplotlib.pyplot as plt\n",
    "import seaborn as sns"
   ]
  },
  {
   "cell_type": "code",
   "execution_count": 8,
   "metadata": {},
   "outputs": [
    {
     "name": "stderr",
     "output_type": "stream",
     "text": [
      "2024-12-13 11:29:56,622 - INFO - Loading analyst ratings from ../datasets/cleaned\\analyst_ratings_cleaned.csv\n",
      "2024-12-13 11:30:05,353 - INFO - Analyst ratings loaded successfully.\n"
     ]
    },
    {
     "name": "stdout",
     "output_type": "stream",
     "text": [
      "<class 'pandas.core.frame.DataFrame'>\n",
      "RangeIndex: 1407328 entries, 0 to 1407327\n",
      "Data columns (total 5 columns):\n",
      " #   Column     Non-Null Count    Dtype \n",
      "---  ------     --------------    ----- \n",
      " 0   headline   1407328 non-null  object\n",
      " 1   url        1407328 non-null  object\n",
      " 2   publisher  1407328 non-null  object\n",
      " 3   date       1407328 non-null  object\n",
      " 4   stock      1407328 non-null  object\n",
      "dtypes: object(5)\n",
      "memory usage: 53.7+ MB\n"
     ]
    }
   ],
   "source": [
    "dataset_path = os.path.join(r\"../datasets/cleaned\", \"analyst_ratings_cleaned.csv\")\n",
    "df = pd.read_csv(dataset_path)\n",
    "\n",
    "df.info()"
   ]
  },
  {
   "cell_type": "code",
   "execution_count": null,
   "metadata": {},
   "outputs": [],
   "source": [
    "df"
   ]
  },
  {
   "cell_type": "code",
   "execution_count": null,
   "metadata": {},
   "outputs": [],
   "source": [
    "df.columns"
   ]
  },
  {
   "cell_type": "code",
   "execution_count": null,
   "metadata": {},
   "outputs": [],
   "source": [
    "unique_publishers = df['publisher'].unique()\n",
    "unique_publishers_num = df['publisher'].nunique()\n",
    "unique_publishers_num, unique_publishers"
   ]
  },
  {
   "cell_type": "code",
   "execution_count": null,
   "metadata": {},
   "outputs": [],
   "source": [
    "unique_stocks = df['stock'].unique()\n",
    "unique_stocks_num = df['stock'].nunique()\n",
    "unique_stocks_num, unique_stocks\n"
   ]
  },
  {
   "cell_type": "code",
   "execution_count": null,
   "metadata": {},
   "outputs": [],
   "source": [
    "df.describe()"
   ]
  },
  {
   "cell_type": "code",
   "execution_count": null,
   "metadata": {},
   "outputs": [],
   "source": [
    "# Check for missing values\n",
    "df.isnull().sum()"
   ]
  },
  {
   "cell_type": "code",
   "execution_count": null,
   "metadata": {},
   "outputs": [],
   "source": [
    "# Check for duplicates\n",
    "df.duplicated().sum()"
   ]
  },
  {
   "cell_type": "markdown",
   "metadata": {},
   "source": [
    "# Statistics summary"
   ]
  },
  {
   "cell_type": "code",
   "execution_count": null,
   "metadata": {},
   "outputs": [],
   "source": [
    "# Summary statistics for headline, url, publisher, date, stock columns\n",
    "df[['headline', 'url', 'publisher', 'date', 'stock']].describe()"
   ]
  },
  {
   "cell_type": "code",
   "execution_count": null,
   "metadata": {},
   "outputs": [],
   "source": [
    "# articles per stocks\n",
    "articles_per_stocks = df['stock'].value_counts()\n",
    "articles_per_stocks"
   ]
  },
  {
   "cell_type": "code",
   "execution_count": null,
   "metadata": {},
   "outputs": [],
   "source": [
    "(articles_per_stocks == 1).sum()"
   ]
  },
  {
   "cell_type": "code",
   "execution_count": null,
   "metadata": {},
   "outputs": [],
   "source": [
    "# Articles per Publisher\n",
    "articles_per_publisher = df['publisher'].value_counts().reset_index()\n",
    "articles_per_publisher.columns = ['publisher', 'num_articles_published']\n",
    "\n",
    "# Top 10 active publishers\n",
    "top_publishers = articles_per_publisher.head(10)\n",
    "top_publishers"
   ]
  },
  {
   "cell_type": "code",
   "execution_count": null,
   "metadata": {},
   "outputs": [],
   "source": [
    "# Analyze the type of news reported by top publishers\n",
    "for publisher in top_publishers.index:\n",
    "    publisher_articles = df[df['publisher'] == publisher]\n",
    "    print(f\"\\nArticles by {publisher}:\")\n",
    "    print(publisher_articles['headline'].head(5))"
   ]
  },
  {
   "cell_type": "code",
   "execution_count": null,
   "metadata": {},
   "outputs": [],
   "source": [
    "(articles_per_publisher == 1).sum()"
   ]
  },
  {
   "cell_type": "code",
   "execution_count": null,
   "metadata": {},
   "outputs": [],
   "source": [
    "# Check if email addresses are used as publisher names\n",
    "email_publishers = df[df['publisher'].str.contains('@', na=False)]\n",
    "unique_domains = email_publishers['publisher'].str.extract(r'@([\\w\\.-]+)')[0].value_counts()\n",
    "unique_domains"
   ]
  },
  {
   "cell_type": "markdown",
   "metadata": {},
   "source": [
    "# Publication Time Analysis"
   ]
  },
  {
   "cell_type": "code",
   "execution_count": null,
   "metadata": {},
   "outputs": [],
   "source": [
    "# Convert all dates to the same timezone with UTC handling before creating the date range\n",
    "df['date'] = pd.to_datetime(df['date'], format='mixed', utc=True)\n",
    "# # Convert all dates to naive datetime objects\n",
    "# df['date'] = df['date'].dt.tz_localize(None)\n",
    "\n",
    "# Now create the date range\n",
    "date_range = pd.date_range(start=df['date'].min(), end=df['date'].max(), freq='D')\n",
    "missing_dates = date_range.difference(df['date'])\n",
    "missing_dates, df['date'].min(), df['date'].max()"
   ]
  },
  {
   "cell_type": "code",
   "execution_count": 19,
   "metadata": {},
   "outputs": [],
   "source": [
    "# Analyze the publication dates to see trends over time\n",
    "df['publication_year'] = df['date'].dt.year\n",
    "df['publication_month'] = df['date'].dt.month\n",
    "df['publication_day'] = df['date'].dt.day\n",
    "df['publication_weekday'] = df['date'].dt.dayofweek\n",
    "df['publication_weekday_name'] = df['date'].dt.day_name()\n",
    "df['publication_hour'] = df['date'].dt.hour"
   ]
  },
  {
   "cell_type": "code",
   "execution_count": null,
   "metadata": {},
   "outputs": [],
   "source": [
    "# Articles per Year\n",
    "articles_per_year = df['publication_year'].value_counts().sort_index()\n",
    "articles_per_year"
   ]
  },
  {
   "cell_type": "code",
   "execution_count": null,
   "metadata": {},
   "outputs": [],
   "source": [
    "# Articles per Month\n",
    "articles_per_month = df['publication_month'].value_counts().sort_index()\n",
    "articles_per_month"
   ]
  },
  {
   "cell_type": "code",
   "execution_count": null,
   "metadata": {},
   "outputs": [],
   "source": [
    "# Articles per Day\n",
    "articles_per_day = df['publication_day'].value_counts().sort_index()\n",
    "articles_per_day"
   ]
  },
  {
   "cell_type": "code",
   "execution_count": null,
   "metadata": {},
   "outputs": [],
   "source": [
    "# Articles per Day of the Week\n",
    "articles_per_weekday = df['publication_weekday'].value_counts().sort_index()\n",
    "articles_per_weekday"
   ]
  },
  {
   "cell_type": "code",
   "execution_count": null,
   "metadata": {},
   "outputs": [],
   "source": [
    "# Articles per Day of the Week namely\n",
    "articles_per_weekday_name = df['publication_weekday_name'].value_counts().sort_index()\n",
    "articles_per_weekday_name"
   ]
  },
  {
   "cell_type": "code",
   "execution_count": null,
   "metadata": {},
   "outputs": [],
   "source": [
    "# Articles per Hour\n",
    "articles_per_hour = df['publication_hour'].value_counts().sort_index()\n",
    "articles_per_hour"
   ]
  },
  {
   "cell_type": "code",
   "execution_count": null,
   "metadata": {},
   "outputs": [],
   "source": [
    "\n",
    "# Plotting the trends\n",
    "plt.figure(figsize=(12, 6))\n",
    "\n",
    "plt.subplot(3, 1, 1)\n",
    "articles_per_year.plot(kind='bar', title='Articles per Year')\n",
    "plt.xlabel('Year')\n",
    "plt.ylabel('Number of Articles')\n",
    "\n",
    "plt.subplot(3, 1, 2)\n",
    "articles_per_month.plot(kind='bar', title='Articles per Month')\n",
    "plt.xlabel('Month')\n",
    "plt.ylabel('Number of Articles')\n",
    "\n",
    "plt.subplot(3, 1, 3)\n",
    "articles_per_weekday_name.plot(kind='bar', title='Articles per Weekday')\n",
    "# articles_per_weekday.plot(kind='bar', title='Articles per Weekday')\n",
    "plt.xlabel('Day of the Week')\n",
    "plt.ylabel('Number of Articles')\n",
    "\n",
    "plt.tight_layout()\n",
    "plt.show()"
   ]
  },
  {
   "cell_type": "code",
   "execution_count": null,
   "metadata": {},
   "outputs": [],
   "source": [
    "# Articles per Month of Each Year\n",
    "articles_per_month_year = df.groupby(['publication_year', 'publication_month']).size().unstack(fill_value=0)\n",
    "articles_per_month_year\n"
   ]
  },
  {
   "cell_type": "code",
   "execution_count": null,
   "metadata": {},
   "outputs": [],
   "source": [
    "# Plotting the number of articles per month of each year\n",
    "plt.figure(figsize=(12, 8))\n",
    "sns.heatmap(articles_per_month_year, annot=True, fmt=\"d\", cmap=\"YlGnBu\")\n",
    "plt.title('Number of Articles per Month of Each Year')\n",
    "plt.xlabel('Month')\n",
    "plt.ylabel('Year')\n",
    "plt.show()\n",
    "\n"
   ]
  },
  {
   "cell_type": "code",
   "execution_count": null,
   "metadata": {},
   "outputs": [],
   "source": [
    "# Alternative plot for the number of articles per month of each year\n",
    "plt.figure(figsize=(12, 8))\n",
    "articles_per_month_year.plot(kind='bar', stacked=True, colormap='tab20')\n",
    "plt.title('Number of Articles per Month of Each Year')\n",
    "plt.xlabel('Year')\n",
    "plt.ylabel('Number of Articles')\n",
    "plt.legend(title='Month')\n",
    "plt.tight_layout()\n",
    "plt.show()"
   ]
  },
  {
   "cell_type": "code",
   "execution_count": null,
   "metadata": {},
   "outputs": [],
   "source": [
    "# Another alternative figure for the above\n",
    "plt.figure(figsize=(12, 6))\n",
    "\n",
    "plt.subplot(3, 1, 1)\n",
    "articles_per_year.plot(kind='line', marker='o', title='Articles per Year')\n",
    "plt.xlabel('Year')\n",
    "plt.ylabel('Number of Articles')\n",
    "\n",
    "plt.subplot(3, 1, 2)\n",
    "articles_per_month.plot(kind='line', marker='o', title='Articles per Month')\n",
    "plt.xlabel('Month')\n",
    "plt.ylabel('Number of Articles')\n",
    "\n",
    "plt.subplot(3, 1, 3)\n",
    "articles_per_weekday_name.plot(kind='line', marker='o', title='Articles per Weekday')\n",
    "# articles_per_weekday.plot(kind='line', marker='o', title='Articles per Weekday')\n",
    "plt.xlabel('Day')\n",
    "plt.ylabel('Number of Articles')\n",
    "\n",
    "plt.tight_layout()\n",
    "plt.show()\n"
   ]
  },
  {
   "cell_type": "code",
   "execution_count": null,
   "metadata": {},
   "outputs": [],
   "source": [
    "# Distribution of articles by years\n",
    "articles_per_year.plot(kind='line', marker='o', color='blue')\n",
    "plt.title('Distribution of Articles by years')\n",
    "plt.xlabel('Year')\n",
    "plt.ylabel('Number of Articles')\n",
    "plt.show()"
   ]
  },
  {
   "cell_type": "code",
   "execution_count": null,
   "metadata": {},
   "outputs": [],
   "source": [
    "# Distribution of articles by months\n",
    "articles_per_month.plot(kind='line', marker='o', color='blue')\n",
    "plt.title('Distribution of Articles by months')\n",
    "plt.xlabel('Month')\n",
    "plt.ylabel('Number of Articles')\n",
    "plt.show()"
   ]
  },
  {
   "cell_type": "code",
   "execution_count": null,
   "metadata": {},
   "outputs": [],
   "source": [
    "# Distribution of articles by days of the month\n",
    "articles_per_day.plot(kind='line', marker='o', color='purple')\n",
    "plt.title('Distribution of Articles by days of the month')\n",
    "plt.xlabel('day')\n",
    "plt.ylabel('Number of Articles')\n",
    "plt.show()"
   ]
  },
  {
   "cell_type": "code",
   "execution_count": null,
   "metadata": {},
   "outputs": [],
   "source": [
    "# Distribution of articles by days of the week\n",
    "articles_per_weekday_name.plot(kind='bar', color='skyblue')\n",
    "# articles_per_weekday.plot(kind='bar', color='skyblue')\n",
    "plt.title('Distribution of Articles by days of the week')\n",
    "plt.xlabel('Weekday')\n",
    "plt.ylabel('Number of Articles')\n",
    "plt.xticks(rotation=45)\n",
    "plt.show()"
   ]
  },
  {
   "cell_type": "code",
   "execution_count": null,
   "metadata": {},
   "outputs": [],
   "source": [
    "# Distribution of articles by hour of the Day\n",
    "plt.figure(figsize=(12, 6))\n",
    "articles_per_hour.plot(kind='bar', color='green')\n",
    "plt.title('Distribution of Articles Times by Hour of the Day')\n",
    "plt.xlabel('Hour of the Day')\n",
    "plt.ylabel('Number of Articles')\n",
    "plt.xticks(rotation=45)\n",
    "plt.show()"
   ]
  },
  {
   "cell_type": "code",
   "execution_count": null,
   "metadata": {},
   "outputs": [],
   "source": [
    "articles_per_hour"
   ]
  },
  {
   "cell_type": "code",
   "execution_count": null,
   "metadata": {},
   "outputs": [],
   "source": [
    "# Extract year and month from the date\n",
    "df['year_month'] = df['date'].dt.to_period('M')\n",
    "\n",
    "# Group by year and month to get the count of articles published monthly each year\n",
    "publication_counts = df.groupby('year_month').size()\n",
    "publication_counts"
   ]
  },
  {
   "cell_type": "code",
   "execution_count": null,
   "metadata": {},
   "outputs": [],
   "source": [
    "# Plot the publication frequency over time\n",
    "plt.figure(figsize=(14, 7))\n",
    "publication_counts.plot()\n",
    "plt.title('Article Publication Frequency Over Time')\n",
    "plt.xlabel('Year-Month')\n",
    "plt.ylabel('Number of Articles')\n",
    "plt.grid(True)\n",
    "plt.show()"
   ]
  },
  {
   "cell_type": "code",
   "execution_count": null,
   "metadata": {},
   "outputs": [],
   "source": [
    "# Identify spikes in article publications\n",
    "spikes = publication_counts[publication_counts > publication_counts.mean() + 2 * publication_counts.std()]\n",
    "spikes"
   ]
  }
 ],
 "metadata": {
  "kernelspec": {
   "display_name": "Python 3",
   "language": "python",
   "name": "python3"
  },
  "language_info": {
   "codemirror_mode": {
    "name": "ipython",
    "version": 3
   },
   "file_extension": ".py",
   "mimetype": "text/x-python",
   "name": "python",
   "nbconvert_exporter": "python",
   "pygments_lexer": "ipython3",
   "version": "3.12.1"
  }
 },
 "nbformat": 4,
 "nbformat_minor": 2
}
