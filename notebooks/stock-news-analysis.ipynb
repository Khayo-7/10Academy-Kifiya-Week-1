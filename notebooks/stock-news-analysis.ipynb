{
 "cells": [
  {
   "cell_type": "code",
   "execution_count": 10,
   "metadata": {},
   "outputs": [],
   "source": [
    "!pip freeze > ../requirements.txt"
   ]
  },
  {
   "cell_type": "code",
   "execution_count": 5,
   "metadata": {},
   "outputs": [],
   "source": [
    "import os\n",
    "import sys\n",
    "sys.path.append(r'..')\n",
    "\n",
    "import pandas as pd\n",
    "from scripts.data_analysis import *\n",
    "from scripts.visualization import *\n",
    "from scripts.financial_analysis import *\n",
    "from scripts.data_transformation import *\n",
    "from scripts.sentiment_analysis import *\n",
    "from scripts.data_analysis import summarize_data\n",
    "from utils.data_loaders import load_analyst_ratings, load_yfinance_data"
   ]
  },
  {
   "cell_type": "code",
   "execution_count": null,
   "metadata": {},
   "outputs": [],
   "source": [
    "# Load the data\n",
    "dataset_path = os.path.join(r\"../datasets/cleaned\", \"analyst_ratings_cleaned.csv\")\n",
    "analyst_ratings_df = load_analyst_ratings(dataset_path)\n",
    "# analyst_ratings_df = load_data(dataset_path)"
   ]
  },
  {
   "cell_type": "code",
   "execution_count": null,
   "metadata": {},
   "outputs": [],
   "source": [
    "datasets_folder = os.path.join(r\"../datasets/raw/yfinance_data\")\n",
    "dataframes = load_yfinance_data(datasets_folder)\n",
    "\n",
    "for df in dataframes.values():\n",
    "    df['Date'] = pd.to_datetime(df['Date'])\n",
    "dataframes "
   ]
  },
  {
   "cell_type": "code",
   "execution_count": 8,
   "metadata": {},
   "outputs": [],
   "source": [
    "df_AAPL = dataframes['AAPL']\n",
    "df_AMZN = dataframes['AMZN']\n",
    "df_GOOG = dataframes['GOOG']\n",
    "df_META = dataframes['META']\n",
    "df_MSFT = dataframes['MSFT']\n",
    "df_NVDA = dataframes['NVDA']\n",
    "df_TSLA = dataframes['TSLA']"
   ]
  },
  {
   "cell_type": "code",
   "execution_count": null,
   "metadata": {},
   "outputs": [],
   "source": [
    "tickers = list(dataframes.keys()) # ['AAPL', 'AMZN', 'GOOG', 'META', 'MSFT', 'NVDA', 'TSLA']\n",
    "\n",
    "columns_to_merge = ['Open', 'High', 'Low', 'Close', 'Adj Close', 'Volume',\n",
    "                    'Dividends', 'Stock Splits', 'RSI', 'MACD', 'MACD_signal', \n",
    "                    'MACD_hist', 'Signal', 'Daily_Return', 'Strategy_Return']\n",
    "\n",
    "# for ticker in tickers:\n",
    "#     locals()[f'df_{ticker}']['Date'] = pd.to_datetime(locals()[f'df_{ticker}']['Date'])\n",
    "# dataframes = {ticker: globals()[f'df_{ticker}'] for ticker in tickers}\n",
    "# dataframes = {ticker: locals()[f'df_{ticker}'] for ticker in tickers}\n",
    "# merged_data = pd.concat([\n",
    "#     locals()[f'df_{ticker}'][['Date', 'Close']].rename(columns={'Close': ticker}).set_index('Date')\n",
    "#     for ticker in tickers\n",
    "# ], axis=1, join='inner')\n",
    "\n",
    "# Merge Datasets\n",
    "\n",
    "selected_column = columns_to_merge[3]\n",
    "# merged_data = pd.concat([dataframes[ticker][['Date', selected_column]]\n",
    "#                             .set_index('Date') for ticker in tickers], axis=1\n",
    "#                         ).fillna(method='ffill')\n",
    "\n",
    "\n",
    "merged_data = merge_dataframes(dataframes, tickers, selected_column)\n",
    "# merged_data = merge_dataframes(dataframes, tickers, selected_column, start_date='2020-01-01', end_date='2024-01-01')\n",
    "merged_data"
   ]
  },
  {
   "cell_type": "code",
   "execution_count": null,
   "metadata": {},
   "outputs": [],
   "source": [
    "selected_tickers = ['MSFT', 'AAPL', 'AMZN']\n",
    "\n",
    "calculate_portfolio_indicators(merged_data[selected_tickers])    "
   ]
  },
  {
   "cell_type": "code",
   "execution_count": null,
   "metadata": {},
   "outputs": [],
   "source": [
    "calculate_portfolio_weights(merged_data[selected_tickers], tickers=selected_tickers)  "
   ]
  },
  {
   "cell_type": "code",
   "execution_count": null,
   "metadata": {},
   "outputs": [],
   "source": [
    "calculate_portfolio_performance(merged_data[selected_tickers])"
   ]
  },
  {
   "cell_type": "code",
   "execution_count": null,
   "metadata": {},
   "outputs": [],
   "source": [
    "plot_correlation_matrix(merged_data[selected_tickers])"
   ]
  },
  {
   "cell_type": "code",
   "execution_count": null,
   "metadata": {},
   "outputs": [],
   "source": [
    "plot_correlation_heatmap(df, columns=['Close', 'Open', 'High', 'Low'])"
   ]
  },
  {
   "cell_type": "code",
   "execution_count": 16,
   "metadata": {},
   "outputs": [],
   "source": [
    "# Perform sentiment analysis on headlines for Sentiment Distribution\n",
    "sentiment_summary = analyze_sentiment(analyst_ratings_df['headline'])\n",
    "# analyst_ratings_df['sentiment'] = sentiment_summary['sentiment']\n",
    "# analyst_ratings_df['sentiment_category'] = sentiment_summary['sentiment_category']\n"
   ]
  },
  {
   "cell_type": "code",
   "execution_count": null,
   "metadata": {},
   "outputs": [],
   "source": [
    "#sentiment analysis of news data headlines with VADER\n",
    "analyst_ratings_df[\"sentiment\"] = analyst_ratings_df[\"headline\"].apply(get_vader_sentiment)\n",
    "analyst_ratings_df[[\"headline\", \"sentiment\"]]"
   ]
  },
  {
   "cell_type": "code",
   "execution_count": null,
   "metadata": {},
   "outputs": [],
   "source": [
    "# Merge sentiment with stock prices\n",
    "df_combined = pd.merge(sentiment_summary, merged_data, on='Date', how='inner')\n",
    "# merged_df = merge_dataframes(stock_df, sentiment_df, on='Date')"
   ]
  },
  {
   "cell_type": "code",
   "execution_count": null,
   "metadata": {},
   "outputs": [],
   "source": [
    "# plot_stock_vs_sentiment(df, date_column='Date', sentiment_column='Sentiment', stock_metric='Close')"
   ]
  },
  {
   "cell_type": "code",
   "execution_count": null,
   "metadata": {},
   "outputs": [],
   "source": [
    "# Correlation analysis\n",
    "df_combined[['average_sentiment', 'stock_price']].corr()"
   ]
  },
  {
   "cell_type": "code",
   "execution_count": null,
   "metadata": {},
   "outputs": [],
   "source": [
    "# Aggregate sentiment scores by date\n",
    "# daily_sentiment.rename(columns={\"Date\": \"date\"}, inplace=True)\n",
    "daily_sentiment = analyst_ratings_df.groupby(\"date\")[\"sentiment\"].mean().reset_index()\n",
    "daily_sentiment"
   ]
  },
  {
   "cell_type": "code",
   "execution_count": null,
   "metadata": {},
   "outputs": [],
   "source": [
    "# Convert timestamps to datetime and extract the date\n",
    "merged_data.rename(columns={\"Date\": \"date\"}, inplace=True)\n",
    "merged_data[\"date\"] = pd.to_datetime(merged_data[\"date\"]).dt.date\n",
    "daily_sentiment[\"date\"] = pd.to_datetime(daily_sentiment[\"date\"]).dt.date"
   ]
  },
  {
   "cell_type": "code",
   "execution_count": null,
   "metadata": {},
   "outputs": [],
   "source": [
    "# Aggregate Sentiment\n",
    "analyst_ratings_df['date'] = pd.to_datetime(analyst_ratings_df['date'])\n",
    "analyst_ratings_df.rename(columns={\"date\": \"Date\"}, inplace=True)\n",
    "aggregate_sentiment_summary = aggregate_sentiment(analyst_ratings_df, 'headline', 'sentiment', 'Date', method='textblob')\n",
    "aggregate_sentiment_summary"
   ]
  },
  {
   "cell_type": "code",
   "execution_count": null,
   "metadata": {},
   "outputs": [],
   "source": [
    "# Aligning sentiment score with stock close on same date\n",
    "co_x = ['Open', 'High', 'Low', 'Adj Close', 'Volume', 'Dividends', 'Stock Splits']\n",
    "aligned_data = pd.merge(merged_data, daily_sentiment, on=\"date\", how=\"inner\")\n",
    "\n",
    "# Align DataFrames by Date and Merge with Stock Data\n",
    "merged_data.reset_index(inplace=True)\n",
    "merged_data['Date'] = pd.to_datetime(merged_data['Date'])\n",
    "aggregate_sentiment_summary['Date'] = pd.to_datetime(aggregate_sentiment_summary['Date'])\n",
    "\n",
    "# Merge datasets on Date\n",
    "aligned_data = pd.merge(merged_data, aggregate_sentiment_summary, on=\"Date\", how=\"inner\")\n",
    "aligned_data\n"
   ]
  },
  {
   "cell_type": "code",
   "execution_count": null,
   "metadata": {},
   "outputs": [],
   "source": [
    "\n",
    "aligned_Data = aligned_data.drop(columns = co_x )"
   ]
  },
  {
   "cell_type": "code",
   "execution_count": null,
   "metadata": {},
   "outputs": [],
   "source": [
    "# Compute Daily_Return for all tickers in a multi-index Close column\n",
    "# aligned_data['Daily_Return'] = aligned_data['Close'].apply(calculate_daily_return)\n",
    "aligned_Data['Daily_Return'] = calculate_daily_return(aligned_Data['Close'])\n",
    "\n",
    "# Stock Data with Daily Returns\n",
    "aligned_Data"
   ]
  },
  {
   "cell_type": "code",
   "execution_count": null,
   "metadata": {},
   "outputs": [],
   "source": [
    "# Compute RSI for each column (assuming calculate_RSI can handle Series input)\n",
    "# aligned_data['RSI'] = aligned_data['Close'].apply(calculate_RSI)\n",
    "aligned_Data['RSI'] = calculate_RSI(aligned_Data['Close'])"
   ]
  },
  {
   "cell_type": "code",
   "execution_count": null,
   "metadata": {},
   "outputs": [],
   "source": [
    "# Plotting Sentiment vs Stock Price\n",
    "plot_scatter(df_combined['average_sentiment'], df_combined['stock_price'], \n",
    "             'Sentiment vs Stock Price', 'Average Sentiment', 'Stock Price', color='green', alpha=0.6)"
   ]
  },
  {
   "cell_type": "code",
   "execution_count": null,
   "metadata": {},
   "outputs": [],
   "source": [
    "# Compute correlation between news sentiment score and daily returns\n",
    "aligned_Data[\"sentiment\"].corr(aligned_Data[\"Daily_Return\"])"
   ]
  },
  {
   "cell_type": "code",
   "execution_count": null,
   "metadata": {},
   "outputs": [],
   "source": [
    "# Plotting Sentiment Score vs Daily Stock Return\n",
    "plot_scatter(aligned_Data[\"sentiment\"], aligned_Data[\"Daily_Return\"], \n",
    "             \"Sentiment Score vs daily stock return\", \"Sentiment Score\", \"daily stock return\", color=\"purple\")"
   ]
  },
  {
   "cell_type": "code",
   "execution_count": null,
   "metadata": {},
   "outputs": [],
   "source": [
    "# Compute correlation between news sentiment score and stock close\n",
    "aligned_Data[\"sentiment\"].corr(aligned_Data[\"Close\"])"
   ]
  },
  {
   "cell_type": "code",
   "execution_count": null,
   "metadata": {},
   "outputs": [],
   "source": [
    "# Plotting Sentiment Score vs Stock Close Price\n",
    "plot_scatter(aligned_Data[\"sentiment\"], aligned_Data[\"Close\"], \n",
    "             \"Sentiment Score vs Stock Close Price\", \"Sentiment Score\", \"Stock Closing Price\", color=\"blue\")"
   ]
  },
  {
   "cell_type": "code",
   "execution_count": null,
   "metadata": {},
   "outputs": [],
   "source": [
    "# Volatility and Sentiment\n",
    "aligned_Data['Volatility'] = calculate_volatility(aligned_Data['High'], aligned_Data['Low'], aligned_Data['Open'])\n",
    "plot_scatter(aligned_Data['sentiment'], aligned_Data['Volatility'], \"Sentiment vs Volatility\", \"Sentiment\", \"Volatility\", color=\"orange\")"
   ]
  },
  {
   "cell_type": "code",
   "execution_count": null,
   "metadata": {},
   "outputs": [],
   "source": [
    "# Sentiment Clustering\n",
    "clustered_data = cluster_sentiment(aligned_data, 'sentiment')\n",
    "plot_scatter(\n",
    "    clustered_data['sentiment'], clustered_data['Daily_Return'],\n",
    "    \"Clustered Sentiment vs Daily Returns\", \"Sentiment\", \"Daily Returns\", c=clustered_data['Sentiment_Cluster']\n",
    ")"
   ]
  },
  {
   "cell_type": "code",
   "execution_count": null,
   "metadata": {},
   "outputs": [],
   "source": [
    "# Portfolio Performance\n",
    "weights = [0.3, 0.4, 0.3]\n",
    "calculate_portfolio_performance(aligned_data[['AAPL', 'MSFT', 'GOOG']], weights)"
   ]
  },
  {
   "cell_type": "code",
   "execution_count": null,
   "metadata": {},
   "outputs": [],
   "source": [
    "\n",
    "# Define the selected tickers\n",
    "selected_tickers = ['AAPL', 'MSFT', 'GOOG']\n",
    "\n",
    "stock_prices = combine_stock_data(dataframes, selected_tickers)\n",
    "\n",
    "returns = calculate_returns_for_tickers(stock_prices)\n",
    "\n",
    "# Analyze the portfolio's performance using equal-weighted strategy (or custom weights)\n",
    "portfolio_returns = analyze_portfolio_performance(returns, weights=[0.3, 0.4, 0.3])"
   ]
  },
  {
   "cell_type": "code",
   "execution_count": null,
   "metadata": {},
   "outputs": [],
   "source": [
    "# # Calculate portfolio performance\n",
    "# portfolio_performance = calculate_portfolio_performance_for_tickers(stock_prices, method='inverse_volatility')\n",
    "# portfolio_performance"
   ]
  },
  {
   "cell_type": "code",
   "execution_count": null,
   "metadata": {},
   "outputs": [],
   "source": [
    "# Save Processed Data\n",
    "aligned_data.to_csv(\"../datasets/processed/aligned_data.csv\", index=False)"
   ]
  }
 ],
 "metadata": {
  "kernelspec": {
   "display_name": "Python 3",
   "language": "python",
   "name": "python3"
  },
  "language_info": {
   "codemirror_mode": {
    "name": "ipython",
    "version": 3
   },
   "file_extension": ".py",
   "mimetype": "text/x-python",
   "name": "python",
   "nbconvert_exporter": "python",
   "pygments_lexer": "ipython3",
   "version": "3.12.1"
  }
 },
 "nbformat": 4,
 "nbformat_minor": 2
}
